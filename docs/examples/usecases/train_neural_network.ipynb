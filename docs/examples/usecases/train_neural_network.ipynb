# Import modules
import numpy as np
import matplotlib.pyplot as plt
from sklearn.datasets import load_iris

# Import PySwarms
import pyswarms as ps

# Load the iris dataset
data = load_iris()
X = data.data
y = data.target

# Neural network architecture
n_inputs = 4
n_hidden = 20
n_classes = 3
num_samples = 150

def logits_function(p):
    """Calculate and roll-back the weights and biases
    
    Parameters
    ----------
    p : numpy.ndarray
        Unrolled version of weights and biases.
    
    Returns
    -------
    numpy.ndarray
        Logits for layer 2
    """
    # Roll-back the weights and biases
    W1 = p[0:80].reshape((n_inputs, n_hidden))
    b1 = p[80:100].reshape((n_hidden,))
    W2 = p[100:160].reshape((n_hidden, n_classes))
    b2 = p[160:163].reshape((n_classes,))
    
    # Perform forward propagation
    z1 = X.dot(W1) + b1  # Pre-activation in Layer 1
    a1 = np.tanh(z1)     # Activation in Layer 1
    logits = a1.dot(W2) + b2 # Pre-activation in Layer 2
    return logits

# Forward propagation
def forward_prop(params):
    """Forward propagation as objective function
    
    Parameters
    ----------
    params : numpy.ndarray
        Unrolled version of weights and biases.
        
    Returns
    -------
    float
        Negative log-likelihood loss given the parameters
    """
    logits = logits_function(params)
    
    # Compute softmax of logits
    exp_scores = np.exp(logits)
    probs = exp_scores / np.sum(exp_scores, axis=1, keepdims=True)
    
    # Compute negative log likelihood
    corect_logprobs = -np.log(probs[range(num_samples), y])
    loss = np.sum(corect_logprobs) / num_samples
    return loss

def f(x):
    """Higher-level method for forward_prop in the whole swarm
    
    Parameters
    ----------
    x : numpy.ndarray
        Swarm performing the search
        
    Returns
    -------
    numpy.ndarray
        Computed loss for each particle
    """
    n_particles = x.shape[0]
    j = [forward_prop(x[i]) for i in range(n_particles)]
    return np.array(j)

# Performing PSO on the custom-function
options = {'c1': 0.5, 'c2': 0.3, 'w': 0.9}
dimensions = (n_inputs * n_hidden) + (n_hidden * n_classes) + n_hidden + n_classes 
optimizer = ps.single.GlobalBestPSO(n_particles=100, dimensions=dimensions, options=options)
cost, pos = optimizer.optimize(f, iters=1000)

def predict(pos):
    """Use trained weights to perform class predictions
    
    Parameters
    ----------
    pos : numpy.ndarray
        Position matrix found by the swarm, rolled into weights and biases.
    
    Returns
    -------
    numpy.ndarray
        Predicted classes
    """
    logits = logits_function(pos)
    y_pred = np.argmax(logits, axis=1)
    return y_pred

# Checking the accuracy
accuracy = (predict(pos) == y).mean()
print("Accuracy:", accuracy)
